{
 "cells": [
  {
   "cell_type": "markdown",
   "id": "10431258-bcff-4ddc-a51a-584384145a92",
   "metadata": {
    "tags": []
   },
   "source": [
    "# 회귀 연습 : 다음날 아보카도 가격 예측\n",
    "- 데이터 출처 : https://www.kaggle.com/datasets/neuromusic/avocado-prices\n",
    "- 데이터 설명 : 여러 미국 시장의 아보카도 가격 및 판매량에 대한 과거 데이터\n",
    "- 파일 이름 : 'avocado.csv'\n",
    "- 컬럼 정보\n",
    "    * **Date** : 날짜\n",
    "    * **AveragePrice** : target, 아보카도 한 개의 평균 가격\n",
    "    * **TotalVolume** : 판매된 아보카도의 총 개수\n",
    "    * **4046** : PLU 4046이 포함된 아보카도 총 판매 개수\n",
    "    * **4225** : PLU 4225이 포함된 아보카도 총 판매 개수\n",
    "    * **4770** : PLU 4770이 포함된 아보카도 총 판매 개수\n",
    "    * **type** : 아보카도 종류 - conventional(일반) or organic(유기농)\n",
    "    * **year** : 년도\n",
    "    * **region** : 관측 도시나 지역, 총 54개"
   ]
  },
  {
   "cell_type": "markdown",
   "id": "ce4bd18e-d58a-4094-a1a7-d5d3bbd620cf",
   "metadata": {},
   "source": [
    "## 진행 순서\n",
    "1. 필요한 라이브러리 설치 및 임포트\n",
    "2. 데이터 로드\n",
    "3. 데이터 분석(구성확인, 상관분석, 시각화)\n",
    "4. 데이터 전처리(결측치 처리, 인코딩 등)\n",
    "5. 데이터 분리(x, y)\n",
    "6. 데이터 스케일링(정규화)\n",
    "7. 머신러닝\n",
    "8. 딥러닝\n",
    "9. 모델 성능평가"
   ]
  },
  {
   "cell_type": "markdown",
   "id": "f0531a4c-580a-4080-8af7-bc574fa80a5d",
   "metadata": {},
   "source": [
    "# 1. 필요한 라이브러리 설치 및 임포트"
   ]
  },
  {
   "cell_type": "code",
   "execution_count": 8,
   "id": "eb9e202d-e3ba-485a-8c2c-21f18453a28f",
   "metadata": {
    "tags": []
   },
   "outputs": [],
   "source": [
    "import pandas as pd\n",
    "import numpy as np"
   ]
  },
  {
   "cell_type": "markdown",
   "id": "c5fba064-01f1-41a2-9a03-88a3e72344a4",
   "metadata": {},
   "source": [
    "# 2. 데이터 로드"
   ]
  },
  {
   "cell_type": "code",
   "execution_count": 60,
   "id": "e5eeff6f-c3f7-4b7f-b972-b1c7df833f36",
   "metadata": {
    "tags": []
   },
   "outputs": [
    {
     "data": {
      "text/html": [
       "<div>\n",
       "<style scoped>\n",
       "    .dataframe tbody tr th:only-of-type {\n",
       "        vertical-align: middle;\n",
       "    }\n",
       "\n",
       "    .dataframe tbody tr th {\n",
       "        vertical-align: top;\n",
       "    }\n",
       "\n",
       "    .dataframe thead th {\n",
       "        text-align: right;\n",
       "    }\n",
       "</style>\n",
       "<table border=\"1\" class=\"dataframe\">\n",
       "  <thead>\n",
       "    <tr style=\"text-align: right;\">\n",
       "      <th></th>\n",
       "      <th>Date</th>\n",
       "      <th>AveragePrice</th>\n",
       "      <th>TotalVolume</th>\n",
       "      <th>4046</th>\n",
       "      <th>4225</th>\n",
       "      <th>4770</th>\n",
       "      <th>TotalBags</th>\n",
       "      <th>type</th>\n",
       "      <th>year</th>\n",
       "      <th>region</th>\n",
       "    </tr>\n",
       "  </thead>\n",
       "  <tbody>\n",
       "    <tr>\n",
       "      <th>0</th>\n",
       "      <td>2015-01-04</td>\n",
       "      <td>1.75</td>\n",
       "      <td>27365.89</td>\n",
       "      <td>9307.34</td>\n",
       "      <td>3844.81</td>\n",
       "      <td>615.28</td>\n",
       "      <td>13598.46</td>\n",
       "      <td>organic</td>\n",
       "      <td>2015</td>\n",
       "      <td>Southeast</td>\n",
       "    </tr>\n",
       "    <tr>\n",
       "      <th>1</th>\n",
       "      <td>2015-01-04</td>\n",
       "      <td>1.49</td>\n",
       "      <td>17723.17</td>\n",
       "      <td>1189.35</td>\n",
       "      <td>15628.27</td>\n",
       "      <td>0.00</td>\n",
       "      <td>905.55</td>\n",
       "      <td>organic</td>\n",
       "      <td>2015</td>\n",
       "      <td>Chicago</td>\n",
       "    </tr>\n",
       "    <tr>\n",
       "      <th>2</th>\n",
       "      <td>2015-01-04</td>\n",
       "      <td>1.68</td>\n",
       "      <td>2896.72</td>\n",
       "      <td>161.68</td>\n",
       "      <td>206.96</td>\n",
       "      <td>0.00</td>\n",
       "      <td>NaN</td>\n",
       "      <td>organic</td>\n",
       "      <td>2015</td>\n",
       "      <td>HarrisburgScranton</td>\n",
       "    </tr>\n",
       "    <tr>\n",
       "      <th>3</th>\n",
       "      <td>2015-01-04</td>\n",
       "      <td>1.52</td>\n",
       "      <td>54956.80</td>\n",
       "      <td>3013.04</td>\n",
       "      <td>35456.88</td>\n",
       "      <td>1561.70</td>\n",
       "      <td>14925.18</td>\n",
       "      <td>conventional</td>\n",
       "      <td>2015</td>\n",
       "      <td>Pittsburgh</td>\n",
       "    </tr>\n",
       "    <tr>\n",
       "      <th>4</th>\n",
       "      <td>2015-01-04</td>\n",
       "      <td>1.64</td>\n",
       "      <td>1505.12</td>\n",
       "      <td>1.27</td>\n",
       "      <td>1129.50</td>\n",
       "      <td>0.00</td>\n",
       "      <td>NaN</td>\n",
       "      <td>organic</td>\n",
       "      <td>2015</td>\n",
       "      <td>Boise</td>\n",
       "    </tr>\n",
       "    <tr>\n",
       "      <th>...</th>\n",
       "      <td>...</td>\n",
       "      <td>...</td>\n",
       "      <td>...</td>\n",
       "      <td>...</td>\n",
       "      <td>...</td>\n",
       "      <td>...</td>\n",
       "      <td>...</td>\n",
       "      <td>...</td>\n",
       "      <td>...</td>\n",
       "      <td>...</td>\n",
       "    </tr>\n",
       "    <tr>\n",
       "      <th>18244</th>\n",
       "      <td>2018-03-25</td>\n",
       "      <td>1.36</td>\n",
       "      <td>908202.13</td>\n",
       "      <td>142681.06</td>\n",
       "      <td>463136.28</td>\n",
       "      <td>174975.75</td>\n",
       "      <td>NaN</td>\n",
       "      <td>conventional</td>\n",
       "      <td>2018</td>\n",
       "      <td>Chicago</td>\n",
       "    </tr>\n",
       "    <tr>\n",
       "      <th>18245</th>\n",
       "      <td>2018-03-25</td>\n",
       "      <td>0.70</td>\n",
       "      <td>9010588.32</td>\n",
       "      <td>3999735.71</td>\n",
       "      <td>966589.50</td>\n",
       "      <td>30130.82</td>\n",
       "      <td>NaN</td>\n",
       "      <td>conventional</td>\n",
       "      <td>2018</td>\n",
       "      <td>SouthCentral</td>\n",
       "    </tr>\n",
       "    <tr>\n",
       "      <th>18246</th>\n",
       "      <td>2018-03-25</td>\n",
       "      <td>1.42</td>\n",
       "      <td>163496.70</td>\n",
       "      <td>29253.30</td>\n",
       "      <td>NaN</td>\n",
       "      <td>0.00</td>\n",
       "      <td>129163.36</td>\n",
       "      <td>organic</td>\n",
       "      <td>2018</td>\n",
       "      <td>SouthCentral</td>\n",
       "    </tr>\n",
       "    <tr>\n",
       "      <th>18247</th>\n",
       "      <td>2018-03-25</td>\n",
       "      <td>1.70</td>\n",
       "      <td>190257.38</td>\n",
       "      <td>29644.09</td>\n",
       "      <td>70982.10</td>\n",
       "      <td>0.00</td>\n",
       "      <td>89631.19</td>\n",
       "      <td>organic</td>\n",
       "      <td>2018</td>\n",
       "      <td>California</td>\n",
       "    </tr>\n",
       "    <tr>\n",
       "      <th>18248</th>\n",
       "      <td>2018-03-25</td>\n",
       "      <td>1.34</td>\n",
       "      <td>1774776.77</td>\n",
       "      <td>63905.98</td>\n",
       "      <td>908653.71</td>\n",
       "      <td>843.45</td>\n",
       "      <td>NaN</td>\n",
       "      <td>conventional</td>\n",
       "      <td>2018</td>\n",
       "      <td>NewYork</td>\n",
       "    </tr>\n",
       "  </tbody>\n",
       "</table>\n",
       "<p>18249 rows × 10 columns</p>\n",
       "</div>"
      ],
      "text/plain": [
       "             Date  AveragePrice  TotalVolume        4046       4225  \\\n",
       "0      2015-01-04          1.75     27365.89     9307.34    3844.81   \n",
       "1      2015-01-04          1.49     17723.17     1189.35   15628.27   \n",
       "2      2015-01-04          1.68      2896.72      161.68     206.96   \n",
       "3      2015-01-04          1.52     54956.80     3013.04   35456.88   \n",
       "4      2015-01-04          1.64      1505.12        1.27    1129.50   \n",
       "...           ...           ...          ...         ...        ...   \n",
       "18244  2018-03-25          1.36    908202.13   142681.06  463136.28   \n",
       "18245  2018-03-25          0.70   9010588.32  3999735.71  966589.50   \n",
       "18246  2018-03-25          1.42    163496.70    29253.30        NaN   \n",
       "18247  2018-03-25          1.70    190257.38    29644.09   70982.10   \n",
       "18248  2018-03-25          1.34   1774776.77    63905.98  908653.71   \n",
       "\n",
       "            4770  TotalBags          type  year              region  \n",
       "0         615.28   13598.46       organic  2015           Southeast  \n",
       "1           0.00     905.55       organic  2015             Chicago  \n",
       "2           0.00        NaN       organic  2015  HarrisburgScranton  \n",
       "3        1561.70   14925.18  conventional  2015          Pittsburgh  \n",
       "4           0.00        NaN       organic  2015               Boise  \n",
       "...          ...        ...           ...   ...                 ...  \n",
       "18244  174975.75        NaN  conventional  2018             Chicago  \n",
       "18245   30130.82        NaN  conventional  2018        SouthCentral  \n",
       "18246       0.00  129163.36       organic  2018        SouthCentral  \n",
       "18247       0.00   89631.19       organic  2018          California  \n",
       "18248     843.45        NaN  conventional  2018             NewYork  \n",
       "\n",
       "[18249 rows x 10 columns]"
      ]
     },
     "execution_count": 60,
     "metadata": {},
     "output_type": "execute_result"
    }
   ],
   "source": [
    "df = pd.read_csv('avocado.csv', index_col=0)\n",
    "df"
   ]
  },
  {
   "cell_type": "markdown",
   "id": "5ab30880-ea1f-4eae-9cc0-0a48d64afa10",
   "metadata": {},
   "source": [
    "# 3. 데이터 분석(구성확인, 상관분석, 시각화)"
   ]
  },
  {
   "cell_type": "code",
   "execution_count": null,
   "id": "5c29287a-f504-4158-b4c0-ffb45981c8a5",
   "metadata": {},
   "outputs": [],
   "source": []
  },
  {
   "cell_type": "code",
   "execution_count": null,
   "id": "87e97677-b98d-4d94-af21-f927925c2dbf",
   "metadata": {},
   "outputs": [],
   "source": []
  },
  {
   "cell_type": "code",
   "execution_count": null,
   "id": "789f2cd7-5ba6-42af-84e0-75e6ff27fdb4",
   "metadata": {},
   "outputs": [],
   "source": []
  },
  {
   "cell_type": "markdown",
   "id": "218fb70e-898c-4860-8948-85ded658c031",
   "metadata": {},
   "source": [
    "# 4. 데이터 전처리(결측치 처리, 인코딩 등)"
   ]
  },
  {
   "cell_type": "code",
   "execution_count": null,
   "id": "a8917754-a085-4348-944a-27c3b8e1939b",
   "metadata": {},
   "outputs": [],
   "source": []
  },
  {
   "cell_type": "code",
   "execution_count": null,
   "id": "7cb91453-0b4b-4d48-9cad-dede262684cb",
   "metadata": {},
   "outputs": [],
   "source": []
  },
  {
   "cell_type": "code",
   "execution_count": null,
   "id": "599c35bb-0c95-4ee7-b2da-dcddd0235e35",
   "metadata": {},
   "outputs": [],
   "source": []
  },
  {
   "cell_type": "markdown",
   "id": "2f645bbf-8ea1-4657-9741-8a29f0622e4a",
   "metadata": {},
   "source": [
    "# 5. 데이터 분리(x, y)"
   ]
  },
  {
   "cell_type": "code",
   "execution_count": null,
   "id": "1a894b7a-089f-4d51-98e4-fdb311631e95",
   "metadata": {},
   "outputs": [],
   "source": []
  },
  {
   "cell_type": "code",
   "execution_count": null,
   "id": "5c14e026-fb8a-4209-8b29-cc03878b83d1",
   "metadata": {},
   "outputs": [],
   "source": []
  },
  {
   "cell_type": "code",
   "execution_count": null,
   "id": "bac64db1-faf2-4f38-8693-e1f883f75a06",
   "metadata": {},
   "outputs": [],
   "source": []
  },
  {
   "cell_type": "markdown",
   "id": "9f715604-584a-4bd7-bd63-09ac434a21c3",
   "metadata": {},
   "source": [
    "# 6. 데이터 스케일링(정규화)"
   ]
  },
  {
   "cell_type": "code",
   "execution_count": null,
   "id": "3b5a04c9-ab1f-4510-a505-e4a3a83c96ed",
   "metadata": {},
   "outputs": [],
   "source": []
  },
  {
   "cell_type": "code",
   "execution_count": null,
   "id": "738f90e5-1bb1-4356-bc8e-925ab68a1f16",
   "metadata": {},
   "outputs": [],
   "source": []
  },
  {
   "cell_type": "code",
   "execution_count": null,
   "id": "3b16b140-2dac-4d5b-9d97-69751ee85a61",
   "metadata": {},
   "outputs": [],
   "source": []
  },
  {
   "cell_type": "markdown",
   "id": "8b5705b2-75c4-4633-949c-4a9df147d255",
   "metadata": {},
   "source": [
    "# 7. 머신러닝"
   ]
  },
  {
   "cell_type": "code",
   "execution_count": null,
   "id": "b907c395-395b-4245-ae8c-90478ceb8b3b",
   "metadata": {},
   "outputs": [],
   "source": []
  },
  {
   "cell_type": "code",
   "execution_count": null,
   "id": "c425db08-e90b-4f53-9d95-ff6653f7d4a3",
   "metadata": {},
   "outputs": [],
   "source": []
  },
  {
   "cell_type": "code",
   "execution_count": null,
   "id": "dc7ec165-305e-4fa7-b337-1594a555ea95",
   "metadata": {},
   "outputs": [],
   "source": [
    "from sklearn.metrics import mean_absolute_error\n",
    "y_pred = df.predict(X_valid)\n",
    "dt_mae = mean_absolute_error(y_valid, y_pred)\n",
    "dt_mae"
   ]
  },
  {
   "cell_type": "markdown",
   "id": "2efab149-4b4d-40de-9be7-b4a540c64d30",
   "metadata": {},
   "source": [
    "# 8. 딥러닝"
   ]
  },
  {
   "cell_type": "code",
   "execution_count": null,
   "id": "cb66e3ce-3447-4467-a0a6-2dc134ade588",
   "metadata": {},
   "outputs": [],
   "source": [
    "import tensorflow as tf\n",
    "from tensorflow.keras.models import Sequential, load_model\n",
    "from tensorflow.keras.layers import Dense, Input, Activation, Dropout, BatchNormalization\n",
    "from tensorflow.keras.callbacks import EarlyStopping, ModelCheckpoint\n",
    "from tensorflow.keras.utils import to_categorical\n",
    "\n",
    "tf.random.set_seed(1)"
   ]
  },
  {
   "cell_type": "code",
   "execution_count": null,
   "id": "d32c2f68-773b-4940-853e-97833fc60419",
   "metadata": {},
   "outputs": [],
   "source": [
    "# 모델 생성\n",
    "model = Sequential([\n",
    "    Input(shape=(X_train.shape[1],)),\n",
    "    Dense(64, activation='relu'),\n",
    "    Dropout(0.2),\n",
    "    Dense(32, activation='relu'),\n",
    "    Dense(1)\n",
    "])\n",
    "model.compile(loss='mean_squared_error', optimizer='adam')\n",
    "model.summary()"
   ]
  },
  {
   "cell_type": "code",
   "execution_count": null,
   "id": "750d6db5-6d8a-4bb0-b05c-f66cbead8820",
   "metadata": {},
   "outputs": [],
   "source": [
    "es = EarlyStopping(monitor='val_loss', patience=4)\n",
    "mc = ModelCheckpoint('best_model.h5', monitor='val_loss', save_best_only=True)\n",
    "\n",
    "history = model.fit(X_train, y_train, \n",
    "                    epochs=30, batch_size=16, \n",
    "                    validation_data=(X_test, y_test), \n",
    "                    callbacks=[es, mc])"
   ]
  },
  {
   "cell_type": "markdown",
   "id": "a0082222-674e-4535-a5a0-3774dedcf14f",
   "metadata": {},
   "source": [
    "# 9. 모델 성능평가"
   ]
  },
  {
   "cell_type": "code",
   "execution_count": null,
   "id": "ca6ccfaf-e30c-4149-a752-2ba17834940a",
   "metadata": {},
   "outputs": [],
   "source": [
    "plt.title('Model MSE')\n",
    "plt.plot(history.history['loss'], label='mse')\n",
    "plt.plot(history.history['val_loss'], label='val_mse')\n",
    "plt.xlabel('Epochs')\n",
    "plt.ylabel('MSE')\n",
    "plt.legend()\n",
    "plt.show()"
   ]
  },
  {
   "cell_type": "code",
   "execution_count": null,
   "id": "474b4a0e-b9f1-4198-ad29-648c2ada9bac",
   "metadata": {},
   "outputs": [],
   "source": []
  },
  {
   "cell_type": "code",
   "execution_count": null,
   "id": "8a63822b-1039-4f49-9328-b451980a9633",
   "metadata": {},
   "outputs": [],
   "source": []
  },
  {
   "cell_type": "code",
   "execution_count": null,
   "id": "cbc8be03-9f46-4ac0-9b13-4c623b89c268",
   "metadata": {},
   "outputs": [],
   "source": []
  }
 ],
 "metadata": {
  "kernelspec": {
   "display_name": "Python 3 (ipykernel)",
   "language": "python",
   "name": "python3"
  },
  "language_info": {
   "codemirror_mode": {
    "name": "ipython",
    "version": 3
   },
   "file_extension": ".py",
   "mimetype": "text/x-python",
   "name": "python",
   "nbconvert_exporter": "python",
   "pygments_lexer": "ipython3",
   "version": "3.11.3"
  }
 },
 "nbformat": 4,
 "nbformat_minor": 5
}
